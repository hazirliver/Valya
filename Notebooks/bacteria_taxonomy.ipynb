{
 "cells": [
  {
   "cell_type": "code",
   "execution_count": 8,
   "id": "c0e787fc",
   "metadata": {
    "ExecuteTime": {
     "end_time": "2022-11-09T22:16:42.201646Z",
     "start_time": "2022-11-09T22:16:42.195075Z"
    }
   },
   "outputs": [],
   "source": [
    "from Bio.Entrez.Parser import StringElement\n",
    "from Bio import Entrez\n",
    "import pandas as pd\n",
    "from itertools import chain\n",
    "from typing import List, Dict, Union\n",
    "from tqdm import tqdm\n",
    "import time\n",
    "\n",
    "Entrez.email = \"Your.Name.Here@example.org\""
   ]
  },
  {
   "cell_type": "code",
   "execution_count": 4,
   "id": "052a3f8a",
   "metadata": {
    "ExecuteTime": {
     "end_time": "2022-11-09T22:16:09.169086Z",
     "start_time": "2022-11-09T22:16:09.161799Z"
    }
   },
   "outputs": [],
   "source": [
    "def bacteria_species_to_id(bac_name: str) -> Dict[str, Union[str, None]]:\n",
    "    \"\"\"\n",
    "    It takes a bacteria name as a string, searches the NCBI taxonomy database for the bacteria name, and returns the\n",
    "    bacteria's taxonomy ID as a string\n",
    "\n",
    "    :param bac_name: the name of the bacteria species you want to find the ID for\n",
    "    :type bac_name: str\n",
    "    :return: A dictionary with the bacteria name as the key and the taxonomy ID as the value.\n",
    "    \"\"\"\n",
    "    handle = Entrez.esearch(db=\"taxonomy\", retmax=1, term=bac_name)\n",
    "    records = Entrez.read(handle)\n",
    "    handle.close()\n",
    "    return {bac_name: records['IdList'][0]}\n",
    "\n",
    "\n",
    "def fetch_bacteria_lineage(bac_id: str) -> StringElement:\n",
    "    \"\"\"\n",
    "    It takes a bacteria ID and returns the lineage of that bacteria\n",
    "\n",
    "    :param bac_id: The ID of the bacteria you want to get the lineage of\n",
    "    :type bac_id: str\n",
    "    :return: A list of dictionaries.\n",
    "    \"\"\"\n",
    "    handle = Entrez.efetch(db=\"taxonomy\", id=bac_id)\n",
    "    record = Entrez.read(handle)\n",
    "    handle.close()\n",
    "\n",
    "    return record[0][\"LineageEx\"]\n",
    "\n",
    "def id_list_to_lineage(id_list: StringElement) -> Dict:\n",
    "    \"\"\"\n",
    "    > This function takes a list of dictionaries, where each dictionary contains a bacteria name and a bacteria ID, and\n",
    "    returns a dictionary where each bacteria name is mapped to a list of its lineage\n",
    "\n",
    "    :param id_list: a list of dictionaries, where each dictionary has a bacteria name as the key and a bacteria ID as the\n",
    "    value\n",
    "    :type id_list: StringElement\n",
    "    :return: A dictionary with the bacteria name as the key and the lineage as the value.\n",
    "    \"\"\"\n",
    "    lineage_dict = {}\n",
    "    for bacteria_dict in tqdm(id_list):\n",
    "        for bac_name, bac_id in bacteria_dict.items():\n",
    "            lineage_dict[bac_name] = fetch_bacteria_lineage(bac_id)\n",
    "            time.sleep(1)\n",
    "    return lineage_dict\n",
    "\n",
    "def lineage_to_df(lineage_dict: Dict) -> pd.DataFrame:\n",
    "    \"\"\"\n",
    "    It takes a dictionary of dictionaries and turns it into a dataframe\n",
    "\n",
    "    :param lineage_dict: A dictionary of lineages, where the keys are the species names and the values are the lineages\n",
    "    :type lineage_dict: Dict\n",
    "    :return: A dataframe with the bacteria species as the index and the columns are the taxonomic levels.\n",
    "    \"\"\"\n",
    "    df_dict = {}\n",
    "    for bacteria_species, bacteria_lineage in lineage_dict.items():\n",
    "        tmp = pd.DataFrame(lineage_dict[bacteria_species])\n",
    "        tmp['species'] = [bacteria_species] * tmp.shape[0]\n",
    "        df_dict[bacteria_species] = tmp\n",
    "\n",
    "    return pd.concat(df_dict, axis=1).stack().T"
   ]
  },
  {
   "cell_type": "code",
   "execution_count": 2,
   "id": "439b78ed",
   "metadata": {
    "ExecuteTime": {
     "end_time": "2022-11-09T22:16:05.757514Z",
     "start_time": "2022-11-09T22:16:05.727864Z"
    }
   },
   "outputs": [
    {
     "data": {
      "text/html": [
       "<div>\n",
       "<style scoped>\n",
       "    .dataframe tbody tr th:only-of-type {\n",
       "        vertical-align: middle;\n",
       "    }\n",
       "\n",
       "    .dataframe tbody tr th {\n",
       "        vertical-align: top;\n",
       "    }\n",
       "\n",
       "    .dataframe thead th {\n",
       "        text-align: right;\n",
       "    }\n",
       "</style>\n",
       "<table border=\"1\" class=\"dataframe\">\n",
       "  <thead>\n",
       "    <tr style=\"text-align: right;\">\n",
       "      <th></th>\n",
       "      <th>Organism species (sth)</th>\n",
       "      <th>MRNs</th>\n",
       "    </tr>\n",
       "  </thead>\n",
       "  <tbody>\n",
       "    <tr>\n",
       "      <th>0</th>\n",
       "      <td>Actinobacillus actinomycetemcomitans</td>\n",
       "      <td>AB</td>\n",
       "    </tr>\n",
       "    <tr>\n",
       "      <th>1</th>\n",
       "      <td>Bacillus subtilis</td>\n",
       "      <td>BS</td>\n",
       "    </tr>\n",
       "    <tr>\n",
       "      <th>2</th>\n",
       "      <td>Clostridium acetobutylicum</td>\n",
       "      <td>CA</td>\n",
       "    </tr>\n",
       "    <tr>\n",
       "      <th>3</th>\n",
       "      <td>Campylobacter jejuni</td>\n",
       "      <td>CJ</td>\n",
       "    </tr>\n",
       "    <tr>\n",
       "      <th>4</th>\n",
       "      <td>Chlamydia pneumoniae</td>\n",
       "      <td>CQ</td>\n",
       "    </tr>\n",
       "  </tbody>\n",
       "</table>\n",
       "</div>"
      ],
      "text/plain": [
       "                 Organism species (sth) MRNs\n",
       "0  Actinobacillus actinomycetemcomitans   AB\n",
       "1                     Bacillus subtilis   BS\n",
       "2            Clostridium acetobutylicum   CA\n",
       "3                  Campylobacter jejuni   CJ\n",
       "4                  Chlamydia pneumoniae   CQ"
      ]
     },
     "execution_count": 2,
     "metadata": {},
     "output_type": "execute_result"
    }
   ],
   "source": [
    "df = pd.read_csv('Bacteria_encoding.csv')\n",
    "df.replace({'Pseudomona aeruginosa': 'Pseudomonas aeruginosa'}, inplace=True)\n",
    "df.head()"
   ]
  },
  {
   "cell_type": "code",
   "execution_count": null,
   "id": "cf6076db",
   "metadata": {},
   "outputs": [],
   "source": [
    "id_list = [bac_name_to_id(bac_name) for bac_name in tqdm(df.iloc[:, 0].tolist())]"
   ]
  },
  {
   "cell_type": "code",
   "execution_count": 10,
   "id": "5798a05c",
   "metadata": {
    "ExecuteTime": {
     "end_time": "2022-11-09T22:18:00.760998Z",
     "start_time": "2022-11-09T22:17:28.623572Z"
    }
   },
   "outputs": [
    {
     "name": "stderr",
     "output_type": "stream",
     "text": [
      "100%|██████████| 26/26 [00:32<00:00,  1.24s/it]\n"
     ]
    }
   ],
   "source": [
    "lineage_dict = id_list_to_lineage(id_list)"
   ]
  },
  {
   "cell_type": "code",
   "execution_count": 13,
   "id": "56b0d27e",
   "metadata": {
    "ExecuteTime": {
     "end_time": "2022-11-09T22:18:30.613912Z",
     "start_time": "2022-11-09T22:18:30.552759Z"
    }
   },
   "outputs": [],
   "source": [
    "tax_df = lineage_to_df(lineage_dict)"
   ]
  },
  {
   "cell_type": "code",
   "execution_count": null,
   "id": "90d876c6",
   "metadata": {
    "ExecuteTime": {
     "end_time": "2022-11-09T21:58:27.929138Z",
     "start_time": "2022-11-09T21:58:27.875778Z"
    }
   },
   "outputs": [],
   "source": [
    "tax_df"
   ]
  },
  {
   "cell_type": "code",
   "execution_count": null,
   "id": "e408835a",
   "metadata": {
    "ExecuteTime": {
     "end_time": "2022-11-09T21:58:34.210193Z",
     "start_time": "2022-11-09T21:58:34.199807Z"
    }
   },
   "outputs": [],
   "source": [
    "tax_df.to_csv('tax_df.csv')"
   ]
  }
 ],
 "metadata": {
  "kernelspec": {
   "display_name": "user_python3.8",
   "language": "python",
   "name": "user_python3.8"
  },
  "language_info": {
   "codemirror_mode": {
    "name": "ipython",
    "version": 3
   },
   "file_extension": ".py",
   "mimetype": "text/x-python",
   "name": "python",
   "nbconvert_exporter": "python",
   "pygments_lexer": "ipython3",
   "version": "3.8.11"
  },
  "toc": {
   "base_numbering": 1,
   "nav_menu": {},
   "number_sections": true,
   "sideBar": true,
   "skip_h1_title": false,
   "title_cell": "Table of Contents",
   "title_sidebar": "Contents",
   "toc_cell": false,
   "toc_position": {},
   "toc_section_display": true,
   "toc_window_display": false
  }
 },
 "nbformat": 4,
 "nbformat_minor": 5
}
