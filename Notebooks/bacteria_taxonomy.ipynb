{
 "cells": [
  {
   "cell_type": "code",
   "execution_count": 1,
   "id": "c0e787fc",
   "metadata": {
    "ExecuteTime": {
     "end_time": "2022-11-09T22:16:42.201646Z",
     "start_time": "2022-11-09T22:16:42.195075Z"
    }
   },
   "outputs": [],
   "source": [
    "from Bio.Entrez.Parser import StringElement\n",
    "from Bio import Entrez\n",
    "import pandas as pd\n",
    "from typing import List, Dict, Union\n",
    "from tqdm import tqdm\n",
    "import time\n",
    "\n",
    "Entrez.email = \"Your.Name.Here@example.org\""
   ]
  },
  {
   "cell_type": "code",
   "execution_count": 2,
   "id": "052a3f8a",
   "metadata": {
    "ExecuteTime": {
     "end_time": "2022-11-09T22:16:09.169086Z",
     "start_time": "2022-11-09T22:16:09.161799Z"
    }
   },
   "outputs": [],
   "source": [
    "def bacteria_species_to_id(bac_name: str) -> Dict[str, Union[str, None]]:\n",
    "    \"\"\"\n",
    "    It takes a bacteria name as a string, searches the NCBI taxonomy database for the bacteria name, and returns the\n",
    "    bacteria's taxonomy ID as a string\n",
    "\n",
    "    :param bac_name: the name of the bacteria species you want to find the ID for\n",
    "    :type bac_name: str\n",
    "    :return: A dictionary with the bacteria name as the key and the taxonomy ID as the value.\n",
    "    \"\"\"\n",
    "    handle = Entrez.esearch(db=\"taxonomy\", retmax=1, term=bac_name)\n",
    "    records = Entrez.read(handle)\n",
    "    handle.close()\n",
    "    return {bac_name: records['IdList'][0]}\n",
    "\n",
    "\n",
    "def fetch_bacteria_lineage(bac_id: str) -> StringElement:\n",
    "    \"\"\"\n",
    "    It takes a bacteria ID and returns the lineage of that bacteria\n",
    "\n",
    "    :param bac_id: The ID of the bacteria you want to get the lineage of\n",
    "    :type bac_id: str\n",
    "    :return: A list of dictionaries.\n",
    "    \"\"\"\n",
    "    handle = Entrez.efetch(db=\"taxonomy\", id=bac_id)\n",
    "    record = Entrez.read(handle)\n",
    "    handle.close()\n",
    "\n",
    "    return record[0][\"LineageEx\"]\n",
    "\n",
    "\n",
    "def id_list_to_lineage(id_list: List[Dict]) -> Dict:\n",
    "    \"\"\"\n",
    "    > This function takes a list of dictionaries, where each dictionary contains a bacteria name and a bacteria ID, and\n",
    "    returns a dictionary where each bacteria name is mapped to a list of its lineage\n",
    "\n",
    "    :param id_list: a list of dictionaries, where each dictionary has a bacteria name as the key and a bacteria ID as the\n",
    "    value\n",
    "    :type id_list: StringElement\n",
    "    :return: A dictionary with the bacteria name as the key and the lineage as the value.\n",
    "    \"\"\"\n",
    "    lineage_dict = {}\n",
    "    for bacteria_dict in tqdm(id_list):\n",
    "        for bac_name, bac_id in bacteria_dict.items():\n",
    "            lineage_dict[bac_name] = fetch_bacteria_lineage(bac_id)\n",
    "            time.sleep(1)\n",
    "    return lineage_dict\n",
    "\n",
    "\n",
    "def lineage_to_df(lineage_dict: Dict) -> pd.DataFrame:\n",
    "    \"\"\"\n",
    "    It takes a dictionary of dictionaries and turns it into a dataframe\n",
    "\n",
    "    :param lineage_dict: A dictionary of lineages, where the keys are the species names and the values are the lineages\n",
    "    :type lineage_dict: Dict\n",
    "    :return: A dataframe with the bacteria species as the index and the columns are the taxonomic levels.\n",
    "    \"\"\"\n",
    "    df_dict = {}\n",
    "    for bacteria_species, bacteria_lineage in lineage_dict.items():\n",
    "        tmp = pd.DataFrame(lineage_dict[bacteria_species])\n",
    "        tmp['species'] = [bacteria_species] * tmp.shape[0]\n",
    "        df_dict[bacteria_species] = tmp\n",
    "\n",
    "    return pd.concat(df_dict, axis=1).stack().T"
   ]
  },
  {
   "cell_type": "code",
   "execution_count": 3,
   "id": "439b78ed",
   "metadata": {
    "ExecuteTime": {
     "end_time": "2022-11-09T22:16:05.757514Z",
     "start_time": "2022-11-09T22:16:05.727864Z"
    }
   },
   "outputs": [
    {
     "data": {
      "text/plain": "                 Organism species (sth) MRNs\n0  Actinobacillus actinomycetemcomitans   AB\n1                     Bacillus subtilis   BS\n2            Clostridium acetobutylicum   CA\n3                  Campylobacter jejuni   CJ\n4                  Chlamydia pneumoniae   CQ",
      "text/html": "<div>\n<style scoped>\n    .dataframe tbody tr th:only-of-type {\n        vertical-align: middle;\n    }\n\n    .dataframe tbody tr th {\n        vertical-align: top;\n    }\n\n    .dataframe thead th {\n        text-align: right;\n    }\n</style>\n<table border=\"1\" class=\"dataframe\">\n  <thead>\n    <tr style=\"text-align: right;\">\n      <th></th>\n      <th>Organism species (sth)</th>\n      <th>MRNs</th>\n    </tr>\n  </thead>\n  <tbody>\n    <tr>\n      <th>0</th>\n      <td>Actinobacillus actinomycetemcomitans</td>\n      <td>AB</td>\n    </tr>\n    <tr>\n      <th>1</th>\n      <td>Bacillus subtilis</td>\n      <td>BS</td>\n    </tr>\n    <tr>\n      <th>2</th>\n      <td>Clostridium acetobutylicum</td>\n      <td>CA</td>\n    </tr>\n    <tr>\n      <th>3</th>\n      <td>Campylobacter jejuni</td>\n      <td>CJ</td>\n    </tr>\n    <tr>\n      <th>4</th>\n      <td>Chlamydia pneumoniae</td>\n      <td>CQ</td>\n    </tr>\n  </tbody>\n</table>\n</div>"
     },
     "execution_count": 3,
     "metadata": {},
     "output_type": "execute_result"
    }
   ],
   "source": [
    "df = pd.read_csv('../Input/Bacteria_encoding.csv')\n",
    "df.replace({'Pseudomona aeruginosa': 'Pseudomonas aeruginosa'}, inplace=True)\n",
    "df.head()"
   ]
  },
  {
   "cell_type": "code",
   "execution_count": 4,
   "id": "cf6076db",
   "metadata": {},
   "outputs": [
    {
     "name": "stderr",
     "output_type": "stream",
     "text": [
      "100%|██████████| 26/26 [00:25<00:00,  1.00it/s]\n"
     ]
    }
   ],
   "source": [
    "id_list = [bacteria_species_to_id(bacteria_species) for bacteria_species in tqdm(df.iloc[:, 0].tolist())]"
   ]
  },
  {
   "cell_type": "code",
   "execution_count": 5,
   "id": "5798a05c",
   "metadata": {
    "ExecuteTime": {
     "end_time": "2022-11-09T22:18:00.760998Z",
     "start_time": "2022-11-09T22:17:28.623572Z"
    }
   },
   "outputs": [
    {
     "name": "stderr",
     "output_type": "stream",
     "text": [
      "100%|██████████| 26/26 [00:57<00:00,  2.23s/it]\n"
     ]
    }
   ],
   "source": [
    "lineage_dict = id_list_to_lineage(id_list)"
   ]
  },
  {
   "cell_type": "code",
   "execution_count": 6,
   "id": "56b0d27e",
   "metadata": {
    "ExecuteTime": {
     "end_time": "2022-11-09T22:18:30.613912Z",
     "start_time": "2022-11-09T22:18:30.552759Z"
    }
   },
   "outputs": [],
   "source": [
    "tax_df = lineage_to_df(lineage_dict)"
   ]
  },
  {
   "cell_type": "code",
   "execution_count": 7,
   "id": "90d876c6",
   "metadata": {
    "ExecuteTime": {
     "end_time": "2022-11-09T21:58:27.929138Z",
     "start_time": "2022-11-09T21:58:27.875778Z"
    }
   },
   "outputs": [
    {
     "data": {
      "text/plain": "                                          0                                \\\n                                       TaxId      ScientificName     Rank   \nActinobacillus actinomycetemcomitans  131567  cellular organisms  no rank   \nBacillus subtilis                     131567  cellular organisms  no rank   \nClostridium acetobutylicum            131567  cellular organisms  no rank   \nCampylobacter jejuni                  131567  cellular organisms  no rank   \nChlamydia pneumoniae                  131567  cellular organisms  no rank   \nChlamydia trachomatis                 131567  cellular organisms  no rank   \nDeinococcus radiodurans               131567  cellular organisms  no rank   \nEscherichia coli                      131567  cellular organisms  no rank   \nEnterococcus faecalis                 131567  cellular organisms  no rank   \nHaemophilus influenzae                131567  cellular organisms  no rank   \nHelicobacter pylori                   131567  cellular organisms  no rank   \nMycobacterium bovis                   131567  cellular organisms  no rank   \nMycoplasma genitalium                 131567  cellular organisms  no rank   \nMycobacterium leprae                  131567  cellular organisms  no rank   \nMycoplasma pneumoniae                 131567  cellular organisms  no rank   \nMycobacterium tuberculosis            131567  cellular organisms  no rank   \nNeisseria gonorrhoeae                 131567  cellular organisms  no rank   \nNeisseria meningitidis                131567  cellular organisms  no rank   \nPseudomonas aeruginosa                131567  cellular organisms  no rank   \nPorphyromonas gingivalis              131567  cellular organisms  no rank   \nStreptococcus pneumoniae              131567  cellular organisms  no rank   \nRhodobacter capsulatus                131567  cellular organisms  no rank   \nSaccharomyces cerevisiae              131567  cellular organisms  no rank   \nStreptococcus pyogenes                131567  cellular organisms  no rank   \nSalmonella typhi                      131567  cellular organisms  no rank   \nYersinia pestis                       131567  cellular organisms  no rank   \n\n                                                                            \\\n                                                                   species   \nActinobacillus actinomycetemcomitans  Actinobacillus actinomycetemcomitans   \nBacillus subtilis                                        Bacillus subtilis   \nClostridium acetobutylicum                      Clostridium acetobutylicum   \nCampylobacter jejuni                                  Campylobacter jejuni   \nChlamydia pneumoniae                                  Chlamydia pneumoniae   \nChlamydia trachomatis                                Chlamydia trachomatis   \nDeinococcus radiodurans                            Deinococcus radiodurans   \nEscherichia coli                                          Escherichia coli   \nEnterococcus faecalis                                Enterococcus faecalis   \nHaemophilus influenzae                              Haemophilus influenzae   \nHelicobacter pylori                                    Helicobacter pylori   \nMycobacterium bovis                                    Mycobacterium bovis   \nMycoplasma genitalium                                Mycoplasma genitalium   \nMycobacterium leprae                                  Mycobacterium leprae   \nMycoplasma pneumoniae                                Mycoplasma pneumoniae   \nMycobacterium tuberculosis                      Mycobacterium tuberculosis   \nNeisseria gonorrhoeae                                Neisseria gonorrhoeae   \nNeisseria meningitidis                              Neisseria meningitidis   \nPseudomonas aeruginosa                              Pseudomonas aeruginosa   \nPorphyromonas gingivalis                          Porphyromonas gingivalis   \nStreptococcus pneumoniae                          Streptococcus pneumoniae   \nRhodobacter capsulatus                              Rhodobacter capsulatus   \nSaccharomyces cerevisiae                          Saccharomyces cerevisiae   \nStreptococcus pyogenes                              Streptococcus pyogenes   \nSalmonella typhi                                          Salmonella typhi   \nYersinia pestis                                            Yersinia pestis   \n\n                                        1                                \\\n                                     TaxId ScientificName          Rank   \nActinobacillus actinomycetemcomitans     2       Bacteria  superkingdom   \nBacillus subtilis                        2       Bacteria  superkingdom   \nClostridium acetobutylicum               2       Bacteria  superkingdom   \nCampylobacter jejuni                     2       Bacteria  superkingdom   \nChlamydia pneumoniae                     2       Bacteria  superkingdom   \nChlamydia trachomatis                    2       Bacteria  superkingdom   \nDeinococcus radiodurans                  2       Bacteria  superkingdom   \nEscherichia coli                         2       Bacteria  superkingdom   \nEnterococcus faecalis                    2       Bacteria  superkingdom   \nHaemophilus influenzae                   2       Bacteria  superkingdom   \nHelicobacter pylori                      2       Bacteria  superkingdom   \nMycobacterium bovis                      2       Bacteria  superkingdom   \nMycoplasma genitalium                    2       Bacteria  superkingdom   \nMycobacterium leprae                     2       Bacteria  superkingdom   \nMycoplasma pneumoniae                    2       Bacteria  superkingdom   \nMycobacterium tuberculosis               2       Bacteria  superkingdom   \nNeisseria gonorrhoeae                    2       Bacteria  superkingdom   \nNeisseria meningitidis                   2       Bacteria  superkingdom   \nPseudomonas aeruginosa                   2       Bacteria  superkingdom   \nPorphyromonas gingivalis                 2       Bacteria  superkingdom   \nStreptococcus pneumoniae                 2       Bacteria  superkingdom   \nRhodobacter capsulatus                   2       Bacteria  superkingdom   \nSaccharomyces cerevisiae              2759      Eukaryota  superkingdom   \nStreptococcus pyogenes                   2       Bacteria  superkingdom   \nSalmonella typhi                         2       Bacteria  superkingdom   \nYersinia pestis                          2       Bacteria  superkingdom   \n\n                                                                            \\\n                                                                   species   \nActinobacillus actinomycetemcomitans  Actinobacillus actinomycetemcomitans   \nBacillus subtilis                                        Bacillus subtilis   \nClostridium acetobutylicum                      Clostridium acetobutylicum   \nCampylobacter jejuni                                  Campylobacter jejuni   \nChlamydia pneumoniae                                  Chlamydia pneumoniae   \nChlamydia trachomatis                                Chlamydia trachomatis   \nDeinococcus radiodurans                            Deinococcus radiodurans   \nEscherichia coli                                          Escherichia coli   \nEnterococcus faecalis                                Enterococcus faecalis   \nHaemophilus influenzae                              Haemophilus influenzae   \nHelicobacter pylori                                    Helicobacter pylori   \nMycobacterium bovis                                    Mycobacterium bovis   \nMycoplasma genitalium                                Mycoplasma genitalium   \nMycobacterium leprae                                  Mycobacterium leprae   \nMycoplasma pneumoniae                                Mycoplasma pneumoniae   \nMycobacterium tuberculosis                      Mycobacterium tuberculosis   \nNeisseria gonorrhoeae                                Neisseria gonorrhoeae   \nNeisseria meningitidis                              Neisseria meningitidis   \nPseudomonas aeruginosa                              Pseudomonas aeruginosa   \nPorphyromonas gingivalis                          Porphyromonas gingivalis   \nStreptococcus pneumoniae                          Streptococcus pneumoniae   \nRhodobacter capsulatus                              Rhodobacter capsulatus   \nSaccharomyces cerevisiae                          Saccharomyces cerevisiae   \nStreptococcus pyogenes                              Streptococcus pyogenes   \nSalmonella typhi                                          Salmonella typhi   \nYersinia pestis                                            Yersinia pestis   \n\n                                           2                        ...  \\\n                                        TaxId       ScientificName  ...   \nActinobacillus actinomycetemcomitans     1224       Proteobacteria  ...   \nBacillus subtilis                     1783272  Terrabacteria group  ...   \nClostridium acetobutylicum            1783272  Terrabacteria group  ...   \nCampylobacter jejuni                     1224       Proteobacteria  ...   \nChlamydia pneumoniae                  1783257            PVC group  ...   \nChlamydia trachomatis                 1783257            PVC group  ...   \nDeinococcus radiodurans               1783272  Terrabacteria group  ...   \nEscherichia coli                         1224       Proteobacteria  ...   \nEnterococcus faecalis                 1783272  Terrabacteria group  ...   \nHaemophilus influenzae                   1224       Proteobacteria  ...   \nHelicobacter pylori                      1224       Proteobacteria  ...   \nMycobacterium bovis                   1783272  Terrabacteria group  ...   \nMycoplasma genitalium                 1783272  Terrabacteria group  ...   \nMycobacterium leprae                  1783272  Terrabacteria group  ...   \nMycoplasma pneumoniae                 1783272  Terrabacteria group  ...   \nMycobacterium tuberculosis            1783272  Terrabacteria group  ...   \nNeisseria gonorrhoeae                    1224       Proteobacteria  ...   \nNeisseria meningitidis                   1224       Proteobacteria  ...   \nPseudomonas aeruginosa                   1224       Proteobacteria  ...   \nPorphyromonas gingivalis              1783270            FCB group  ...   \nStreptococcus pneumoniae              1783272  Terrabacteria group  ...   \nRhodobacter capsulatus                   1224       Proteobacteria  ...   \nSaccharomyces cerevisiae                33154         Opisthokonta  ...   \nStreptococcus pyogenes                1783272  Terrabacteria group  ...   \nSalmonella typhi                         1224       Proteobacteria  ...   \nYersinia pestis                          1224       Proteobacteria  ...   \n\n                                           9                               10  \\\n                                         Rank                   species TaxId   \nActinobacillus actinomycetemcomitans      NaN                       NaN   NaN   \nBacillus subtilis                         NaN                       NaN   NaN   \nClostridium acetobutylicum                NaN                       NaN   NaN   \nCampylobacter jejuni                      NaN                       NaN   NaN   \nChlamydia pneumoniae                      NaN                       NaN   NaN   \nChlamydia trachomatis                     NaN                       NaN   NaN   \nDeinococcus radiodurans                   NaN                       NaN   NaN   \nEscherichia coli                          NaN                       NaN   NaN   \nEnterococcus faecalis                     NaN                       NaN   NaN   \nHaemophilus influenzae                    NaN                       NaN   NaN   \nHelicobacter pylori                       NaN                       NaN   NaN   \nMycobacterium bovis                   species       Mycobacterium bovis   NaN   \nMycoplasma genitalium                     NaN                       NaN   NaN   \nMycobacterium leprae                      NaN                       NaN   NaN   \nMycoplasma pneumoniae                     NaN                       NaN   NaN   \nMycobacterium tuberculosis                NaN                       NaN   NaN   \nNeisseria gonorrhoeae                     NaN                       NaN   NaN   \nNeisseria meningitidis                    NaN                       NaN   NaN   \nPseudomonas aeruginosa                    NaN                       NaN   NaN   \nPorphyromonas gingivalis                  NaN                       NaN   NaN   \nStreptococcus pneumoniae                  NaN                       NaN   NaN   \nRhodobacter capsulatus                    NaN                       NaN   NaN   \nSaccharomyces cerevisiae                order  Saccharomyces cerevisiae  4893   \nStreptococcus pyogenes                    NaN                       NaN   NaN   \nSalmonella typhi                          NaN                       NaN   NaN   \nYersinia pestis                           NaN                       NaN   NaN   \n\n                                                                  \\\n                                          ScientificName    Rank   \nActinobacillus actinomycetemcomitans                 NaN     NaN   \nBacillus subtilis                                    NaN     NaN   \nClostridium acetobutylicum                           NaN     NaN   \nCampylobacter jejuni                                 NaN     NaN   \nChlamydia pneumoniae                                 NaN     NaN   \nChlamydia trachomatis                                NaN     NaN   \nDeinococcus radiodurans                              NaN     NaN   \nEscherichia coli                                     NaN     NaN   \nEnterococcus faecalis                                NaN     NaN   \nHaemophilus influenzae                               NaN     NaN   \nHelicobacter pylori                                  NaN     NaN   \nMycobacterium bovis                                  NaN     NaN   \nMycoplasma genitalium                                NaN     NaN   \nMycobacterium leprae                                 NaN     NaN   \nMycoplasma pneumoniae                                NaN     NaN   \nMycobacterium tuberculosis                           NaN     NaN   \nNeisseria gonorrhoeae                                NaN     NaN   \nNeisseria meningitidis                               NaN     NaN   \nPseudomonas aeruginosa                               NaN     NaN   \nPorphyromonas gingivalis                             NaN     NaN   \nStreptococcus pneumoniae                             NaN     NaN   \nRhodobacter capsulatus                               NaN     NaN   \nSaccharomyces cerevisiae              Saccharomycetaceae  family   \nStreptococcus pyogenes                               NaN     NaN   \nSalmonella typhi                                     NaN     NaN   \nYersinia pestis                                      NaN     NaN   \n\n                                                                  11  \\\n                                                       species TaxId   \nActinobacillus actinomycetemcomitans                       NaN   NaN   \nBacillus subtilis                                          NaN   NaN   \nClostridium acetobutylicum                                 NaN   NaN   \nCampylobacter jejuni                                       NaN   NaN   \nChlamydia pneumoniae                                       NaN   NaN   \nChlamydia trachomatis                                      NaN   NaN   \nDeinococcus radiodurans                                    NaN   NaN   \nEscherichia coli                                           NaN   NaN   \nEnterococcus faecalis                                      NaN   NaN   \nHaemophilus influenzae                                     NaN   NaN   \nHelicobacter pylori                                        NaN   NaN   \nMycobacterium bovis                                        NaN   NaN   \nMycoplasma genitalium                                      NaN   NaN   \nMycobacterium leprae                                       NaN   NaN   \nMycoplasma pneumoniae                                      NaN   NaN   \nMycobacterium tuberculosis                                 NaN   NaN   \nNeisseria gonorrhoeae                                      NaN   NaN   \nNeisseria meningitidis                                     NaN   NaN   \nPseudomonas aeruginosa                                     NaN   NaN   \nPorphyromonas gingivalis                                   NaN   NaN   \nStreptococcus pneumoniae                                   NaN   NaN   \nRhodobacter capsulatus                                     NaN   NaN   \nSaccharomyces cerevisiae              Saccharomyces cerevisiae  4930   \nStreptococcus pyogenes                                     NaN   NaN   \nSalmonella typhi                                           NaN   NaN   \nYersinia pestis                                            NaN   NaN   \n\n                                                            \\\n                                     ScientificName   Rank   \nActinobacillus actinomycetemcomitans            NaN    NaN   \nBacillus subtilis                               NaN    NaN   \nClostridium acetobutylicum                      NaN    NaN   \nCampylobacter jejuni                            NaN    NaN   \nChlamydia pneumoniae                            NaN    NaN   \nChlamydia trachomatis                           NaN    NaN   \nDeinococcus radiodurans                         NaN    NaN   \nEscherichia coli                                NaN    NaN   \nEnterococcus faecalis                           NaN    NaN   \nHaemophilus influenzae                          NaN    NaN   \nHelicobacter pylori                             NaN    NaN   \nMycobacterium bovis                             NaN    NaN   \nMycoplasma genitalium                           NaN    NaN   \nMycobacterium leprae                            NaN    NaN   \nMycoplasma pneumoniae                           NaN    NaN   \nMycobacterium tuberculosis                      NaN    NaN   \nNeisseria gonorrhoeae                           NaN    NaN   \nNeisseria meningitidis                          NaN    NaN   \nPseudomonas aeruginosa                          NaN    NaN   \nPorphyromonas gingivalis                        NaN    NaN   \nStreptococcus pneumoniae                        NaN    NaN   \nRhodobacter capsulatus                          NaN    NaN   \nSaccharomyces cerevisiae              Saccharomyces  genus   \nStreptococcus pyogenes                          NaN    NaN   \nSalmonella typhi                                NaN    NaN   \nYersinia pestis                                 NaN    NaN   \n\n                                                                \n                                                       species  \nActinobacillus actinomycetemcomitans                       NaN  \nBacillus subtilis                                          NaN  \nClostridium acetobutylicum                                 NaN  \nCampylobacter jejuni                                       NaN  \nChlamydia pneumoniae                                       NaN  \nChlamydia trachomatis                                      NaN  \nDeinococcus radiodurans                                    NaN  \nEscherichia coli                                           NaN  \nEnterococcus faecalis                                      NaN  \nHaemophilus influenzae                                     NaN  \nHelicobacter pylori                                        NaN  \nMycobacterium bovis                                        NaN  \nMycoplasma genitalium                                      NaN  \nMycobacterium leprae                                       NaN  \nMycoplasma pneumoniae                                      NaN  \nMycobacterium tuberculosis                                 NaN  \nNeisseria gonorrhoeae                                      NaN  \nNeisseria meningitidis                                     NaN  \nPseudomonas aeruginosa                                     NaN  \nPorphyromonas gingivalis                                   NaN  \nStreptococcus pneumoniae                                   NaN  \nRhodobacter capsulatus                                     NaN  \nSaccharomyces cerevisiae              Saccharomyces cerevisiae  \nStreptococcus pyogenes                                     NaN  \nSalmonella typhi                                           NaN  \nYersinia pestis                                            NaN  \n\n[26 rows x 48 columns]",
      "text/html": "<div>\n<style scoped>\n    .dataframe tbody tr th:only-of-type {\n        vertical-align: middle;\n    }\n\n    .dataframe tbody tr th {\n        vertical-align: top;\n    }\n\n    .dataframe thead tr th {\n        text-align: left;\n    }\n</style>\n<table border=\"1\" class=\"dataframe\">\n  <thead>\n    <tr>\n      <th></th>\n      <th colspan=\"4\" halign=\"left\">0</th>\n      <th colspan=\"4\" halign=\"left\">1</th>\n      <th colspan=\"2\" halign=\"left\">2</th>\n      <th>...</th>\n      <th colspan=\"2\" halign=\"left\">9</th>\n      <th colspan=\"4\" halign=\"left\">10</th>\n      <th colspan=\"4\" halign=\"left\">11</th>\n    </tr>\n    <tr>\n      <th></th>\n      <th>TaxId</th>\n      <th>ScientificName</th>\n      <th>Rank</th>\n      <th>species</th>\n      <th>TaxId</th>\n      <th>ScientificName</th>\n      <th>Rank</th>\n      <th>species</th>\n      <th>TaxId</th>\n      <th>ScientificName</th>\n      <th>...</th>\n      <th>Rank</th>\n      <th>species</th>\n      <th>TaxId</th>\n      <th>ScientificName</th>\n      <th>Rank</th>\n      <th>species</th>\n      <th>TaxId</th>\n      <th>ScientificName</th>\n      <th>Rank</th>\n      <th>species</th>\n    </tr>\n  </thead>\n  <tbody>\n    <tr>\n      <th>Actinobacillus actinomycetemcomitans</th>\n      <td>131567</td>\n      <td>cellular organisms</td>\n      <td>no rank</td>\n      <td>Actinobacillus actinomycetemcomitans</td>\n      <td>2</td>\n      <td>Bacteria</td>\n      <td>superkingdom</td>\n      <td>Actinobacillus actinomycetemcomitans</td>\n      <td>1224</td>\n      <td>Proteobacteria</td>\n      <td>...</td>\n      <td>NaN</td>\n      <td>NaN</td>\n      <td>NaN</td>\n      <td>NaN</td>\n      <td>NaN</td>\n      <td>NaN</td>\n      <td>NaN</td>\n      <td>NaN</td>\n      <td>NaN</td>\n      <td>NaN</td>\n    </tr>\n    <tr>\n      <th>Bacillus subtilis</th>\n      <td>131567</td>\n      <td>cellular organisms</td>\n      <td>no rank</td>\n      <td>Bacillus subtilis</td>\n      <td>2</td>\n      <td>Bacteria</td>\n      <td>superkingdom</td>\n      <td>Bacillus subtilis</td>\n      <td>1783272</td>\n      <td>Terrabacteria group</td>\n      <td>...</td>\n      <td>NaN</td>\n      <td>NaN</td>\n      <td>NaN</td>\n      <td>NaN</td>\n      <td>NaN</td>\n      <td>NaN</td>\n      <td>NaN</td>\n      <td>NaN</td>\n      <td>NaN</td>\n      <td>NaN</td>\n    </tr>\n    <tr>\n      <th>Clostridium acetobutylicum</th>\n      <td>131567</td>\n      <td>cellular organisms</td>\n      <td>no rank</td>\n      <td>Clostridium acetobutylicum</td>\n      <td>2</td>\n      <td>Bacteria</td>\n      <td>superkingdom</td>\n      <td>Clostridium acetobutylicum</td>\n      <td>1783272</td>\n      <td>Terrabacteria group</td>\n      <td>...</td>\n      <td>NaN</td>\n      <td>NaN</td>\n      <td>NaN</td>\n      <td>NaN</td>\n      <td>NaN</td>\n      <td>NaN</td>\n      <td>NaN</td>\n      <td>NaN</td>\n      <td>NaN</td>\n      <td>NaN</td>\n    </tr>\n    <tr>\n      <th>Campylobacter jejuni</th>\n      <td>131567</td>\n      <td>cellular organisms</td>\n      <td>no rank</td>\n      <td>Campylobacter jejuni</td>\n      <td>2</td>\n      <td>Bacteria</td>\n      <td>superkingdom</td>\n      <td>Campylobacter jejuni</td>\n      <td>1224</td>\n      <td>Proteobacteria</td>\n      <td>...</td>\n      <td>NaN</td>\n      <td>NaN</td>\n      <td>NaN</td>\n      <td>NaN</td>\n      <td>NaN</td>\n      <td>NaN</td>\n      <td>NaN</td>\n      <td>NaN</td>\n      <td>NaN</td>\n      <td>NaN</td>\n    </tr>\n    <tr>\n      <th>Chlamydia pneumoniae</th>\n      <td>131567</td>\n      <td>cellular organisms</td>\n      <td>no rank</td>\n      <td>Chlamydia pneumoniae</td>\n      <td>2</td>\n      <td>Bacteria</td>\n      <td>superkingdom</td>\n      <td>Chlamydia pneumoniae</td>\n      <td>1783257</td>\n      <td>PVC group</td>\n      <td>...</td>\n      <td>NaN</td>\n      <td>NaN</td>\n      <td>NaN</td>\n      <td>NaN</td>\n      <td>NaN</td>\n      <td>NaN</td>\n      <td>NaN</td>\n      <td>NaN</td>\n      <td>NaN</td>\n      <td>NaN</td>\n    </tr>\n    <tr>\n      <th>Chlamydia trachomatis</th>\n      <td>131567</td>\n      <td>cellular organisms</td>\n      <td>no rank</td>\n      <td>Chlamydia trachomatis</td>\n      <td>2</td>\n      <td>Bacteria</td>\n      <td>superkingdom</td>\n      <td>Chlamydia trachomatis</td>\n      <td>1783257</td>\n      <td>PVC group</td>\n      <td>...</td>\n      <td>NaN</td>\n      <td>NaN</td>\n      <td>NaN</td>\n      <td>NaN</td>\n      <td>NaN</td>\n      <td>NaN</td>\n      <td>NaN</td>\n      <td>NaN</td>\n      <td>NaN</td>\n      <td>NaN</td>\n    </tr>\n    <tr>\n      <th>Deinococcus radiodurans</th>\n      <td>131567</td>\n      <td>cellular organisms</td>\n      <td>no rank</td>\n      <td>Deinococcus radiodurans</td>\n      <td>2</td>\n      <td>Bacteria</td>\n      <td>superkingdom</td>\n      <td>Deinococcus radiodurans</td>\n      <td>1783272</td>\n      <td>Terrabacteria group</td>\n      <td>...</td>\n      <td>NaN</td>\n      <td>NaN</td>\n      <td>NaN</td>\n      <td>NaN</td>\n      <td>NaN</td>\n      <td>NaN</td>\n      <td>NaN</td>\n      <td>NaN</td>\n      <td>NaN</td>\n      <td>NaN</td>\n    </tr>\n    <tr>\n      <th>Escherichia coli</th>\n      <td>131567</td>\n      <td>cellular organisms</td>\n      <td>no rank</td>\n      <td>Escherichia coli</td>\n      <td>2</td>\n      <td>Bacteria</td>\n      <td>superkingdom</td>\n      <td>Escherichia coli</td>\n      <td>1224</td>\n      <td>Proteobacteria</td>\n      <td>...</td>\n      <td>NaN</td>\n      <td>NaN</td>\n      <td>NaN</td>\n      <td>NaN</td>\n      <td>NaN</td>\n      <td>NaN</td>\n      <td>NaN</td>\n      <td>NaN</td>\n      <td>NaN</td>\n      <td>NaN</td>\n    </tr>\n    <tr>\n      <th>Enterococcus faecalis</th>\n      <td>131567</td>\n      <td>cellular organisms</td>\n      <td>no rank</td>\n      <td>Enterococcus faecalis</td>\n      <td>2</td>\n      <td>Bacteria</td>\n      <td>superkingdom</td>\n      <td>Enterococcus faecalis</td>\n      <td>1783272</td>\n      <td>Terrabacteria group</td>\n      <td>...</td>\n      <td>NaN</td>\n      <td>NaN</td>\n      <td>NaN</td>\n      <td>NaN</td>\n      <td>NaN</td>\n      <td>NaN</td>\n      <td>NaN</td>\n      <td>NaN</td>\n      <td>NaN</td>\n      <td>NaN</td>\n    </tr>\n    <tr>\n      <th>Haemophilus influenzae</th>\n      <td>131567</td>\n      <td>cellular organisms</td>\n      <td>no rank</td>\n      <td>Haemophilus influenzae</td>\n      <td>2</td>\n      <td>Bacteria</td>\n      <td>superkingdom</td>\n      <td>Haemophilus influenzae</td>\n      <td>1224</td>\n      <td>Proteobacteria</td>\n      <td>...</td>\n      <td>NaN</td>\n      <td>NaN</td>\n      <td>NaN</td>\n      <td>NaN</td>\n      <td>NaN</td>\n      <td>NaN</td>\n      <td>NaN</td>\n      <td>NaN</td>\n      <td>NaN</td>\n      <td>NaN</td>\n    </tr>\n    <tr>\n      <th>Helicobacter pylori</th>\n      <td>131567</td>\n      <td>cellular organisms</td>\n      <td>no rank</td>\n      <td>Helicobacter pylori</td>\n      <td>2</td>\n      <td>Bacteria</td>\n      <td>superkingdom</td>\n      <td>Helicobacter pylori</td>\n      <td>1224</td>\n      <td>Proteobacteria</td>\n      <td>...</td>\n      <td>NaN</td>\n      <td>NaN</td>\n      <td>NaN</td>\n      <td>NaN</td>\n      <td>NaN</td>\n      <td>NaN</td>\n      <td>NaN</td>\n      <td>NaN</td>\n      <td>NaN</td>\n      <td>NaN</td>\n    </tr>\n    <tr>\n      <th>Mycobacterium bovis</th>\n      <td>131567</td>\n      <td>cellular organisms</td>\n      <td>no rank</td>\n      <td>Mycobacterium bovis</td>\n      <td>2</td>\n      <td>Bacteria</td>\n      <td>superkingdom</td>\n      <td>Mycobacterium bovis</td>\n      <td>1783272</td>\n      <td>Terrabacteria group</td>\n      <td>...</td>\n      <td>species</td>\n      <td>Mycobacterium bovis</td>\n      <td>NaN</td>\n      <td>NaN</td>\n      <td>NaN</td>\n      <td>NaN</td>\n      <td>NaN</td>\n      <td>NaN</td>\n      <td>NaN</td>\n      <td>NaN</td>\n    </tr>\n    <tr>\n      <th>Mycoplasma genitalium</th>\n      <td>131567</td>\n      <td>cellular organisms</td>\n      <td>no rank</td>\n      <td>Mycoplasma genitalium</td>\n      <td>2</td>\n      <td>Bacteria</td>\n      <td>superkingdom</td>\n      <td>Mycoplasma genitalium</td>\n      <td>1783272</td>\n      <td>Terrabacteria group</td>\n      <td>...</td>\n      <td>NaN</td>\n      <td>NaN</td>\n      <td>NaN</td>\n      <td>NaN</td>\n      <td>NaN</td>\n      <td>NaN</td>\n      <td>NaN</td>\n      <td>NaN</td>\n      <td>NaN</td>\n      <td>NaN</td>\n    </tr>\n    <tr>\n      <th>Mycobacterium leprae</th>\n      <td>131567</td>\n      <td>cellular organisms</td>\n      <td>no rank</td>\n      <td>Mycobacterium leprae</td>\n      <td>2</td>\n      <td>Bacteria</td>\n      <td>superkingdom</td>\n      <td>Mycobacterium leprae</td>\n      <td>1783272</td>\n      <td>Terrabacteria group</td>\n      <td>...</td>\n      <td>NaN</td>\n      <td>NaN</td>\n      <td>NaN</td>\n      <td>NaN</td>\n      <td>NaN</td>\n      <td>NaN</td>\n      <td>NaN</td>\n      <td>NaN</td>\n      <td>NaN</td>\n      <td>NaN</td>\n    </tr>\n    <tr>\n      <th>Mycoplasma pneumoniae</th>\n      <td>131567</td>\n      <td>cellular organisms</td>\n      <td>no rank</td>\n      <td>Mycoplasma pneumoniae</td>\n      <td>2</td>\n      <td>Bacteria</td>\n      <td>superkingdom</td>\n      <td>Mycoplasma pneumoniae</td>\n      <td>1783272</td>\n      <td>Terrabacteria group</td>\n      <td>...</td>\n      <td>NaN</td>\n      <td>NaN</td>\n      <td>NaN</td>\n      <td>NaN</td>\n      <td>NaN</td>\n      <td>NaN</td>\n      <td>NaN</td>\n      <td>NaN</td>\n      <td>NaN</td>\n      <td>NaN</td>\n    </tr>\n    <tr>\n      <th>Mycobacterium tuberculosis</th>\n      <td>131567</td>\n      <td>cellular organisms</td>\n      <td>no rank</td>\n      <td>Mycobacterium tuberculosis</td>\n      <td>2</td>\n      <td>Bacteria</td>\n      <td>superkingdom</td>\n      <td>Mycobacterium tuberculosis</td>\n      <td>1783272</td>\n      <td>Terrabacteria group</td>\n      <td>...</td>\n      <td>NaN</td>\n      <td>NaN</td>\n      <td>NaN</td>\n      <td>NaN</td>\n      <td>NaN</td>\n      <td>NaN</td>\n      <td>NaN</td>\n      <td>NaN</td>\n      <td>NaN</td>\n      <td>NaN</td>\n    </tr>\n    <tr>\n      <th>Neisseria gonorrhoeae</th>\n      <td>131567</td>\n      <td>cellular organisms</td>\n      <td>no rank</td>\n      <td>Neisseria gonorrhoeae</td>\n      <td>2</td>\n      <td>Bacteria</td>\n      <td>superkingdom</td>\n      <td>Neisseria gonorrhoeae</td>\n      <td>1224</td>\n      <td>Proteobacteria</td>\n      <td>...</td>\n      <td>NaN</td>\n      <td>NaN</td>\n      <td>NaN</td>\n      <td>NaN</td>\n      <td>NaN</td>\n      <td>NaN</td>\n      <td>NaN</td>\n      <td>NaN</td>\n      <td>NaN</td>\n      <td>NaN</td>\n    </tr>\n    <tr>\n      <th>Neisseria meningitidis</th>\n      <td>131567</td>\n      <td>cellular organisms</td>\n      <td>no rank</td>\n      <td>Neisseria meningitidis</td>\n      <td>2</td>\n      <td>Bacteria</td>\n      <td>superkingdom</td>\n      <td>Neisseria meningitidis</td>\n      <td>1224</td>\n      <td>Proteobacteria</td>\n      <td>...</td>\n      <td>NaN</td>\n      <td>NaN</td>\n      <td>NaN</td>\n      <td>NaN</td>\n      <td>NaN</td>\n      <td>NaN</td>\n      <td>NaN</td>\n      <td>NaN</td>\n      <td>NaN</td>\n      <td>NaN</td>\n    </tr>\n    <tr>\n      <th>Pseudomonas aeruginosa</th>\n      <td>131567</td>\n      <td>cellular organisms</td>\n      <td>no rank</td>\n      <td>Pseudomonas aeruginosa</td>\n      <td>2</td>\n      <td>Bacteria</td>\n      <td>superkingdom</td>\n      <td>Pseudomonas aeruginosa</td>\n      <td>1224</td>\n      <td>Proteobacteria</td>\n      <td>...</td>\n      <td>NaN</td>\n      <td>NaN</td>\n      <td>NaN</td>\n      <td>NaN</td>\n      <td>NaN</td>\n      <td>NaN</td>\n      <td>NaN</td>\n      <td>NaN</td>\n      <td>NaN</td>\n      <td>NaN</td>\n    </tr>\n    <tr>\n      <th>Porphyromonas gingivalis</th>\n      <td>131567</td>\n      <td>cellular organisms</td>\n      <td>no rank</td>\n      <td>Porphyromonas gingivalis</td>\n      <td>2</td>\n      <td>Bacteria</td>\n      <td>superkingdom</td>\n      <td>Porphyromonas gingivalis</td>\n      <td>1783270</td>\n      <td>FCB group</td>\n      <td>...</td>\n      <td>NaN</td>\n      <td>NaN</td>\n      <td>NaN</td>\n      <td>NaN</td>\n      <td>NaN</td>\n      <td>NaN</td>\n      <td>NaN</td>\n      <td>NaN</td>\n      <td>NaN</td>\n      <td>NaN</td>\n    </tr>\n    <tr>\n      <th>Streptococcus pneumoniae</th>\n      <td>131567</td>\n      <td>cellular organisms</td>\n      <td>no rank</td>\n      <td>Streptococcus pneumoniae</td>\n      <td>2</td>\n      <td>Bacteria</td>\n      <td>superkingdom</td>\n      <td>Streptococcus pneumoniae</td>\n      <td>1783272</td>\n      <td>Terrabacteria group</td>\n      <td>...</td>\n      <td>NaN</td>\n      <td>NaN</td>\n      <td>NaN</td>\n      <td>NaN</td>\n      <td>NaN</td>\n      <td>NaN</td>\n      <td>NaN</td>\n      <td>NaN</td>\n      <td>NaN</td>\n      <td>NaN</td>\n    </tr>\n    <tr>\n      <th>Rhodobacter capsulatus</th>\n      <td>131567</td>\n      <td>cellular organisms</td>\n      <td>no rank</td>\n      <td>Rhodobacter capsulatus</td>\n      <td>2</td>\n      <td>Bacteria</td>\n      <td>superkingdom</td>\n      <td>Rhodobacter capsulatus</td>\n      <td>1224</td>\n      <td>Proteobacteria</td>\n      <td>...</td>\n      <td>NaN</td>\n      <td>NaN</td>\n      <td>NaN</td>\n      <td>NaN</td>\n      <td>NaN</td>\n      <td>NaN</td>\n      <td>NaN</td>\n      <td>NaN</td>\n      <td>NaN</td>\n      <td>NaN</td>\n    </tr>\n    <tr>\n      <th>Saccharomyces cerevisiae</th>\n      <td>131567</td>\n      <td>cellular organisms</td>\n      <td>no rank</td>\n      <td>Saccharomyces cerevisiae</td>\n      <td>2759</td>\n      <td>Eukaryota</td>\n      <td>superkingdom</td>\n      <td>Saccharomyces cerevisiae</td>\n      <td>33154</td>\n      <td>Opisthokonta</td>\n      <td>...</td>\n      <td>order</td>\n      <td>Saccharomyces cerevisiae</td>\n      <td>4893</td>\n      <td>Saccharomycetaceae</td>\n      <td>family</td>\n      <td>Saccharomyces cerevisiae</td>\n      <td>4930</td>\n      <td>Saccharomyces</td>\n      <td>genus</td>\n      <td>Saccharomyces cerevisiae</td>\n    </tr>\n    <tr>\n      <th>Streptococcus pyogenes</th>\n      <td>131567</td>\n      <td>cellular organisms</td>\n      <td>no rank</td>\n      <td>Streptococcus pyogenes</td>\n      <td>2</td>\n      <td>Bacteria</td>\n      <td>superkingdom</td>\n      <td>Streptococcus pyogenes</td>\n      <td>1783272</td>\n      <td>Terrabacteria group</td>\n      <td>...</td>\n      <td>NaN</td>\n      <td>NaN</td>\n      <td>NaN</td>\n      <td>NaN</td>\n      <td>NaN</td>\n      <td>NaN</td>\n      <td>NaN</td>\n      <td>NaN</td>\n      <td>NaN</td>\n      <td>NaN</td>\n    </tr>\n    <tr>\n      <th>Salmonella typhi</th>\n      <td>131567</td>\n      <td>cellular organisms</td>\n      <td>no rank</td>\n      <td>Salmonella typhi</td>\n      <td>2</td>\n      <td>Bacteria</td>\n      <td>superkingdom</td>\n      <td>Salmonella typhi</td>\n      <td>1224</td>\n      <td>Proteobacteria</td>\n      <td>...</td>\n      <td>NaN</td>\n      <td>NaN</td>\n      <td>NaN</td>\n      <td>NaN</td>\n      <td>NaN</td>\n      <td>NaN</td>\n      <td>NaN</td>\n      <td>NaN</td>\n      <td>NaN</td>\n      <td>NaN</td>\n    </tr>\n    <tr>\n      <th>Yersinia pestis</th>\n      <td>131567</td>\n      <td>cellular organisms</td>\n      <td>no rank</td>\n      <td>Yersinia pestis</td>\n      <td>2</td>\n      <td>Bacteria</td>\n      <td>superkingdom</td>\n      <td>Yersinia pestis</td>\n      <td>1224</td>\n      <td>Proteobacteria</td>\n      <td>...</td>\n      <td>NaN</td>\n      <td>NaN</td>\n      <td>NaN</td>\n      <td>NaN</td>\n      <td>NaN</td>\n      <td>NaN</td>\n      <td>NaN</td>\n      <td>NaN</td>\n      <td>NaN</td>\n      <td>NaN</td>\n    </tr>\n  </tbody>\n</table>\n<p>26 rows × 48 columns</p>\n</div>"
     },
     "execution_count": 7,
     "metadata": {},
     "output_type": "execute_result"
    }
   ],
   "source": [
    "tax_df"
   ]
  },
  {
   "cell_type": "code",
   "execution_count": 8,
   "id": "e408835a",
   "metadata": {
    "ExecuteTime": {
     "end_time": "2022-11-09T21:58:34.210193Z",
     "start_time": "2022-11-09T21:58:34.199807Z"
    }
   },
   "outputs": [],
   "source": [
    "tax_df.to_csv('../Output/taxonomy_df.csv')"
   ]
  },
  {
   "cell_type": "code",
   "execution_count": null,
   "outputs": [],
   "source": [],
   "metadata": {
    "collapsed": false
   }
  }
 ],
 "metadata": {
  "kernelspec": {
   "name": "python3",
   "language": "python",
   "display_name": "Python 3 (ipykernel)"
  },
  "language_info": {
   "codemirror_mode": {
    "name": "ipython",
    "version": 3
   },
   "file_extension": ".py",
   "mimetype": "text/x-python",
   "name": "python",
   "nbconvert_exporter": "python",
   "pygments_lexer": "ipython3",
   "version": "3.8.11"
  },
  "toc": {
   "base_numbering": 1,
   "nav_menu": {},
   "number_sections": true,
   "sideBar": true,
   "skip_h1_title": false,
   "title_cell": "Table of Contents",
   "title_sidebar": "Contents",
   "toc_cell": false,
   "toc_position": {},
   "toc_section_display": true,
   "toc_window_display": false
  }
 },
 "nbformat": 4,
 "nbformat_minor": 5
}
